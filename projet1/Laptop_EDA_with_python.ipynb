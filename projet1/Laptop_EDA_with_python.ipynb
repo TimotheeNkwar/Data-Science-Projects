{
 "cells": [
  {
   "cell_type": "code",
   "execution_count": 2,
   "id": "917bcfda-c9a6-4c35-aced-4428d0955652",
   "metadata": {},
   "outputs": [
    {
     "data": {
      "text/html": [
       "        <script type=\"text/javascript\">\n",
       "        window.PlotlyConfig = {MathJaxConfig: 'local'};\n",
       "        if (window.MathJax && window.MathJax.Hub && window.MathJax.Hub.Config) {window.MathJax.Hub.Config({SVG: {font: \"STIX-Web\"}});}\n",
       "        </script>\n",
       "        <script type=\"module\">import \"https://cdn.plot.ly/plotly-3.0.0.min\"</script>\n",
       "        "
      ]
     },
     "metadata": {},
     "output_type": "display_data"
    },
    {
     "data": {
      "text/html": [
       "        <script type=\"text/javascript\">\n",
       "        window.PlotlyConfig = {MathJaxConfig: 'local'};\n",
       "        if (window.MathJax && window.MathJax.Hub && window.MathJax.Hub.Config) {window.MathJax.Hub.Config({SVG: {font: \"STIX-Web\"}});}\n",
       "        </script>\n",
       "        <script type=\"module\">import \"https://cdn.plot.ly/plotly-3.0.0.min\"</script>\n",
       "        "
      ]
     },
     "metadata": {},
     "output_type": "display_data"
    }
   ],
   "source": [
    "import numpy as np\n",
    "\n",
    "import pandas as pd\n",
    "\n",
    "import seaborn as sns\n",
    "\n",
    "\n",
    "import matplotlib.pyplot as plt\n",
    "%matplotlib inline\n",
    "\n",
    "import cufflinks as cf\n",
    "import plotly\n",
    "from plotly.offline import iplot\n",
    "import plotly.graph_objs as go\n",
    "\n",
    "plotly.offline.init_notebook_mode(connected=True)\n",
    "cf.go_offline()"
   ]
  },
  {
   "cell_type": "code",
   "execution_count": 3,
   "id": "e744c04d-b7df-4037-bd9d-7c8769ff9546",
   "metadata": {},
   "outputs": [],
   "source": [
    "import numpy as np\n",
    "\n",
    "import pandas as pd\n",
    "df = pd.read_csv(\"laptops.csv\")"
   ]
  },
  {
   "cell_type": "code",
   "execution_count": 4,
   "id": "36abd3c9-d111-4967-b8e4-3d5bc81136ec",
   "metadata": {},
   "outputs": [
    {
     "data": {
      "text/html": [
       "<div>\n",
       "<style scoped>\n",
       "    .dataframe tbody tr th:only-of-type {\n",
       "        vertical-align: middle;\n",
       "    }\n",
       "\n",
       "    .dataframe tbody tr th {\n",
       "        vertical-align: top;\n",
       "    }\n",
       "\n",
       "    .dataframe thead th {\n",
       "        text-align: right;\n",
       "    }\n",
       "</style>\n",
       "<table border=\"1\" class=\"dataframe\">\n",
       "  <thead>\n",
       "    <tr style=\"text-align: right;\">\n",
       "      <th></th>\n",
       "      <th>Laptop</th>\n",
       "      <th>Status</th>\n",
       "      <th>Brand</th>\n",
       "      <th>Model</th>\n",
       "      <th>CPU</th>\n",
       "      <th>RAM</th>\n",
       "      <th>Storage</th>\n",
       "      <th>Storage type</th>\n",
       "      <th>GPU</th>\n",
       "      <th>Screen</th>\n",
       "      <th>Touch</th>\n",
       "      <th>Final Price</th>\n",
       "    </tr>\n",
       "  </thead>\n",
       "  <tbody>\n",
       "    <tr>\n",
       "      <th>0</th>\n",
       "      <td>ASUS ExpertBook B1 B1502CBA-EJ0436X Intel Core...</td>\n",
       "      <td>New</td>\n",
       "      <td>Asus</td>\n",
       "      <td>ExpertBook</td>\n",
       "      <td>Intel Core i5</td>\n",
       "      <td>8</td>\n",
       "      <td>512</td>\n",
       "      <td>SSD</td>\n",
       "      <td>NaN</td>\n",
       "      <td>15.6</td>\n",
       "      <td>No</td>\n",
       "      <td>1009.00</td>\n",
       "    </tr>\n",
       "    <tr>\n",
       "      <th>1</th>\n",
       "      <td>Alurin Go Start Intel Celeron N4020/8GB/256GB ...</td>\n",
       "      <td>New</td>\n",
       "      <td>Alurin</td>\n",
       "      <td>Go</td>\n",
       "      <td>Intel Celeron</td>\n",
       "      <td>8</td>\n",
       "      <td>256</td>\n",
       "      <td>SSD</td>\n",
       "      <td>NaN</td>\n",
       "      <td>15.6</td>\n",
       "      <td>No</td>\n",
       "      <td>299.00</td>\n",
       "    </tr>\n",
       "    <tr>\n",
       "      <th>2</th>\n",
       "      <td>ASUS ExpertBook B1 B1502CBA-EJ0424X Intel Core...</td>\n",
       "      <td>New</td>\n",
       "      <td>Asus</td>\n",
       "      <td>ExpertBook</td>\n",
       "      <td>Intel Core i3</td>\n",
       "      <td>8</td>\n",
       "      <td>256</td>\n",
       "      <td>SSD</td>\n",
       "      <td>NaN</td>\n",
       "      <td>15.6</td>\n",
       "      <td>No</td>\n",
       "      <td>789.00</td>\n",
       "    </tr>\n",
       "    <tr>\n",
       "      <th>3</th>\n",
       "      <td>MSI Katana GF66 12UC-082XES Intel Core i7-1270...</td>\n",
       "      <td>New</td>\n",
       "      <td>MSI</td>\n",
       "      <td>Katana</td>\n",
       "      <td>Intel Core i7</td>\n",
       "      <td>16</td>\n",
       "      <td>1000</td>\n",
       "      <td>SSD</td>\n",
       "      <td>RTX 3050</td>\n",
       "      <td>15.6</td>\n",
       "      <td>No</td>\n",
       "      <td>1199.00</td>\n",
       "    </tr>\n",
       "    <tr>\n",
       "      <th>4</th>\n",
       "      <td>HP 15S-FQ5085NS Intel Core i5-1235U/16GB/512GB...</td>\n",
       "      <td>New</td>\n",
       "      <td>HP</td>\n",
       "      <td>15S</td>\n",
       "      <td>Intel Core i5</td>\n",
       "      <td>16</td>\n",
       "      <td>512</td>\n",
       "      <td>SSD</td>\n",
       "      <td>NaN</td>\n",
       "      <td>15.6</td>\n",
       "      <td>No</td>\n",
       "      <td>669.01</td>\n",
       "    </tr>\n",
       "  </tbody>\n",
       "</table>\n",
       "</div>"
      ],
      "text/plain": [
       "                                              Laptop Status   Brand  \\\n",
       "0  ASUS ExpertBook B1 B1502CBA-EJ0436X Intel Core...    New    Asus   \n",
       "1  Alurin Go Start Intel Celeron N4020/8GB/256GB ...    New  Alurin   \n",
       "2  ASUS ExpertBook B1 B1502CBA-EJ0424X Intel Core...    New    Asus   \n",
       "3  MSI Katana GF66 12UC-082XES Intel Core i7-1270...    New     MSI   \n",
       "4  HP 15S-FQ5085NS Intel Core i5-1235U/16GB/512GB...    New      HP   \n",
       "\n",
       "        Model            CPU  RAM  Storage Storage type       GPU  Screen  \\\n",
       "0  ExpertBook  Intel Core i5    8      512          SSD       NaN    15.6   \n",
       "1          Go  Intel Celeron    8      256          SSD       NaN    15.6   \n",
       "2  ExpertBook  Intel Core i3    8      256          SSD       NaN    15.6   \n",
       "3      Katana  Intel Core i7   16     1000          SSD  RTX 3050    15.6   \n",
       "4         15S  Intel Core i5   16      512          SSD       NaN    15.6   \n",
       "\n",
       "  Touch  Final Price  \n",
       "0    No      1009.00  \n",
       "1    No       299.00  \n",
       "2    No       789.00  \n",
       "3    No      1199.00  \n",
       "4    No       669.01  "
      ]
     },
     "execution_count": 4,
     "metadata": {},
     "output_type": "execute_result"
    }
   ],
   "source": [
    "df.head()"
   ]
  },
  {
   "cell_type": "code",
   "execution_count": 5,
   "id": "d3326e79-14b2-490a-a302-3aa99bb89219",
   "metadata": {
    "scrolled": true
   },
   "outputs": [
    {
     "name": "stdout",
     "output_type": "stream",
     "text": [
      "<class 'pandas.core.frame.DataFrame'>\n",
      "RangeIndex: 2160 entries, 0 to 2159\n",
      "Data columns (total 12 columns):\n",
      " #   Column        Non-Null Count  Dtype  \n",
      "---  ------        --------------  -----  \n",
      " 0   Laptop        2160 non-null   object \n",
      " 1   Status        2160 non-null   object \n",
      " 2   Brand         2160 non-null   object \n",
      " 3   Model         2160 non-null   object \n",
      " 4   CPU           2160 non-null   object \n",
      " 5   RAM           2160 non-null   int64  \n",
      " 6   Storage       2160 non-null   int64  \n",
      " 7   Storage type  2118 non-null   object \n",
      " 8   GPU           789 non-null    object \n",
      " 9   Screen        2156 non-null   float64\n",
      " 10  Touch         2160 non-null   object \n",
      " 11  Final Price   2160 non-null   float64\n",
      "dtypes: float64(2), int64(2), object(8)\n",
      "memory usage: 202.6+ KB\n"
     ]
    }
   ],
   "source": [
    "df.info()"
   ]
  },
  {
   "cell_type": "code",
   "execution_count": 8,
   "id": "4e43edf6-4b8e-46cf-8400-6a42448cf10a",
   "metadata": {},
   "outputs": [
    {
     "data": {
      "text/html": [
       "<pre style=\"white-space:pre;overflow-x:auto;line-height:normal;font-family:Menlo,'DejaVu Sans Mono',consolas,'Courier New',monospace\">╭──────────────────────────────────────────────── skimpy summary ─────────────────────────────────────────────────╮\n",
       "│ <span style=\"font-style: italic\">         Data Summary         </span> <span style=\"font-style: italic\">      Data Types       </span>                                                          │\n",
       "│ ┏━━━━━━━━━━━━━━━━━━━┳━━━━━━━━┓ ┏━━━━━━━━━━━━━┳━━━━━━━┓                                                          │\n",
       "│ ┃<span style=\"color: #008080; text-decoration-color: #008080; font-weight: bold\"> Dataframe         </span>┃<span style=\"color: #008080; text-decoration-color: #008080; font-weight: bold\"> Values </span>┃ ┃<span style=\"color: #008080; text-decoration-color: #008080; font-weight: bold\"> Column Type </span>┃<span style=\"color: #008080; text-decoration-color: #008080; font-weight: bold\"> Count </span>┃                                                          │\n",
       "│ ┡━━━━━━━━━━━━━━━━━━━╇━━━━━━━━┩ ┡━━━━━━━━━━━━━╇━━━━━━━┩                                                          │\n",
       "│ │ Number of rows    │ 2160   │ │ string      │ 8     │                                                          │\n",
       "│ │ Number of columns │ 12     │ │ int64       │ 2     │                                                          │\n",
       "│ └───────────────────┴────────┘ │ float64     │ 2     │                                                          │\n",
       "│                                └─────────────┴───────┘                                                          │\n",
       "│ <span style=\"font-style: italic\">                                                    number                                                    </span>  │\n",
       "│ ┏━━━━━━━━━━━━━━┳━━━━━┳━━━━━━━━━━━━━━━━━━━━━━━┳━━━━━━━━┳━━━━━━━━┳━━━━━━━┳━━━━━━━┳━━━━━━┳━━━━━━┳━━━━━━┳━━━━━━━━┓  │\n",
       "│ ┃<span style=\"font-weight: bold\"> column       </span>┃<span style=\"font-weight: bold\"> NA  </span>┃<span style=\"font-weight: bold\"> NA %                  </span>┃<span style=\"font-weight: bold\"> mean   </span>┃<span style=\"font-weight: bold\"> sd     </span>┃<span style=\"font-weight: bold\"> p0    </span>┃<span style=\"font-weight: bold\"> p25   </span>┃<span style=\"font-weight: bold\"> p50  </span>┃<span style=\"font-weight: bold\"> p75  </span>┃<span style=\"font-weight: bold\"> p100 </span>┃<span style=\"font-weight: bold\"> hist   </span>┃  │\n",
       "│ ┡━━━━━━━━━━━━━━╇━━━━━╇━━━━━━━━━━━━━━━━━━━━━━━╇━━━━━━━━╇━━━━━━━━╇━━━━━━━╇━━━━━━━╇━━━━━━╇━━━━━━╇━━━━━━╇━━━━━━━━┩  │\n",
       "│ │ <span style=\"color: #af87ff; text-decoration-color: #af87ff\">RAM         </span> │ <span style=\"color: #008080; text-decoration-color: #008080\">  0</span> │ <span style=\"color: #008080; text-decoration-color: #008080\">                    0</span> │ <span style=\"color: #008080; text-decoration-color: #008080\"> 15.41</span> │ <span style=\"color: #008080; text-decoration-color: #008080\"> 9.868</span> │ <span style=\"color: #008080; text-decoration-color: #008080\">    4</span> │ <span style=\"color: #008080; text-decoration-color: #008080\">    8</span> │ <span style=\"color: #008080; text-decoration-color: #008080\">  16</span> │ <span style=\"color: #008080; text-decoration-color: #008080\">  16</span> │ <span style=\"color: #008080; text-decoration-color: #008080\"> 128</span> │ <span style=\"color: #008000; text-decoration-color: #008000\">  ▇▁  </span> │  │\n",
       "│ │ <span style=\"color: #af87ff; text-decoration-color: #af87ff\">Storage     </span> │ <span style=\"color: #008080; text-decoration-color: #008080\">  0</span> │ <span style=\"color: #008080; text-decoration-color: #008080\">                    0</span> │ <span style=\"color: #008080; text-decoration-color: #008080\"> 596.3</span> │ <span style=\"color: #008080; text-decoration-color: #008080\"> 361.2</span> │ <span style=\"color: #008080; text-decoration-color: #008080\">    0</span> │ <span style=\"color: #008080; text-decoration-color: #008080\">  256</span> │ <span style=\"color: #008080; text-decoration-color: #008080\"> 512</span> │ <span style=\"color: #008080; text-decoration-color: #008080\">1000</span> │ <span style=\"color: #008080; text-decoration-color: #008080\">4000</span> │ <span style=\"color: #008000; text-decoration-color: #008000\">  ▇▃  </span> │  │\n",
       "│ │ <span style=\"color: #af87ff; text-decoration-color: #af87ff\">Screen      </span> │ <span style=\"color: #008080; text-decoration-color: #008080\">  4</span> │ <span style=\"color: #008080; text-decoration-color: #008080\">  0.18518518518518517</span> │ <span style=\"color: #008080; text-decoration-color: #008080\"> 15.17</span> │ <span style=\"color: #008080; text-decoration-color: #008080\"> 1.203</span> │ <span style=\"color: #008080; text-decoration-color: #008080\"> 10.1</span> │ <span style=\"color: #008080; text-decoration-color: #008080\">   14</span> │ <span style=\"color: #008080; text-decoration-color: #008080\">15.6</span> │ <span style=\"color: #008080; text-decoration-color: #008080\">15.6</span> │ <span style=\"color: #008080; text-decoration-color: #008080\">  18</span> │ <span style=\"color: #008000; text-decoration-color: #008000\">  ▃ ▇▁</span> │  │\n",
       "│ │ <span style=\"color: #af87ff; text-decoration-color: #af87ff\">Final Price </span> │ <span style=\"color: #008080; text-decoration-color: #008080\">  0</span> │ <span style=\"color: #008080; text-decoration-color: #008080\">                    0</span> │ <span style=\"color: #008080; text-decoration-color: #008080\">  1313</span> │ <span style=\"color: #008080; text-decoration-color: #008080\"> 911.5</span> │ <span style=\"color: #008080; text-decoration-color: #008080\">201.1</span> │ <span style=\"color: #008080; text-decoration-color: #008080\">661.1</span> │ <span style=\"color: #008080; text-decoration-color: #008080\">1032</span> │ <span style=\"color: #008080; text-decoration-color: #008080\">1709</span> │ <span style=\"color: #008080; text-decoration-color: #008080\">7150</span> │ <span style=\"color: #008000; text-decoration-color: #008000\"> ▇▃▁  </span> │  │\n",
       "│ └──────────────┴─────┴───────────────────────┴────────┴────────┴───────┴───────┴──────┴──────┴──────┴────────┘  │\n",
       "│ <span style=\"font-style: italic\">                                                    string                                                    </span>  │\n",
       "│ ┏━━━━━━━━━━┳━━━━━━┳━━━━━━━━━━┳━━━━━━━━━━┳━━━━━━━━━━━┳━━━━━━━━━━┳━━━━━━━━━━━┳━━━━━━━━━━┳━━━━━━━━━━━┳━━━━━━━━━━┓  │\n",
       "│ ┃<span style=\"font-weight: bold\">          </span>┃<span style=\"font-weight: bold\">      </span>┃<span style=\"font-weight: bold\">          </span>┃<span style=\"font-weight: bold\">          </span>┃<span style=\"font-weight: bold\">           </span>┃<span style=\"font-weight: bold\">          </span>┃<span style=\"font-weight: bold\">           </span>┃<span style=\"font-weight: bold\"> chars    </span>┃<span style=\"font-weight: bold\"> words per </span>┃<span style=\"font-weight: bold\"> total    </span>┃  │\n",
       "│ ┃<span style=\"font-weight: bold\"> column   </span>┃<span style=\"font-weight: bold\"> NA   </span>┃<span style=\"font-weight: bold\"> NA %     </span>┃<span style=\"font-weight: bold\"> shortest </span>┃<span style=\"font-weight: bold\"> longest   </span>┃<span style=\"font-weight: bold\"> min      </span>┃<span style=\"font-weight: bold\"> max       </span>┃<span style=\"font-weight: bold\"> per row  </span>┃<span style=\"font-weight: bold\"> row       </span>┃<span style=\"font-weight: bold\"> words    </span>┃  │\n",
       "│ ┡━━━━━━━━━━╇━━━━━━╇━━━━━━━━━━╇━━━━━━━━━━╇━━━━━━━━━━━╇━━━━━━━━━━╇━━━━━━━━━━━╇━━━━━━━━━━╇━━━━━━━━━━━╇━━━━━━━━━━┩  │\n",
       "│ │ <span style=\"color: #af87ff; text-decoration-color: #af87ff\">Laptop  </span> │ <span style=\"color: #008080; text-decoration-color: #008080\">   0</span> │ <span style=\"color: #008080; text-decoration-color: #008080\">       0</span> │ <span style=\"color: #af87ff; text-decoration-color: #af87ff\">Apple   </span> │ <span style=\"color: #af87ff; text-decoration-color: #af87ff\">Razer    </span> │ <span style=\"color: #af87ff; text-decoration-color: #af87ff\">ASUS    </span> │ <span style=\"color: #af87ff; text-decoration-color: #af87ff\">Vant     </span> │ <span style=\"color: #008080; text-decoration-color: #008080\">    70.1</span> │ <span style=\"color: #008080; text-decoration-color: #008080\">      8.9</span> │ <span style=\"color: #008080; text-decoration-color: #008080\">   19231</span> │  │\n",
       "│ │          │      │          │ <span style=\"color: #af87ff; text-decoration-color: #af87ff\">MacBook </span> │ <span style=\"color: #af87ff; text-decoration-color: #af87ff\">Blade 15 </span> │ <span style=\"color: #af87ff; text-decoration-color: #af87ff\">ROG     </span> │ <span style=\"color: #af87ff; text-decoration-color: #af87ff\">Moove3-14</span> │          │           │          │  │\n",
       "│ │          │      │          │ <span style=\"color: #af87ff; text-decoration-color: #af87ff\">Air     </span> │ <span style=\"color: #af87ff; text-decoration-color: #af87ff\">Advanced </span> │ <span style=\"color: #af87ff; text-decoration-color: #af87ff\">Zephyrus</span> │ <span style=\"color: #af87ff; text-decoration-color: #af87ff\">Intel    </span> │          │           │          │  │\n",
       "│ │          │      │          │ <span style=\"color: #af87ff; text-decoration-color: #af87ff\">i5/4GB/1</span> │ <span style=\"color: #af87ff; text-decoration-color: #af87ff\">Model QHD</span> │ <span style=\"color: #af87ff; text-decoration-color: #af87ff\">M16     </span> │ <span style=\"color: #af87ff; text-decoration-color: #af87ff\">Core     </span> │          │           │          │  │\n",
       "│ │          │      │          │ <span style=\"color: #af87ff; text-decoration-color: #af87ff\">28GB/13.</span> │ <span style=\"color: #af87ff; text-decoration-color: #af87ff\">Intel    </span> │ <span style=\"color: #af87ff; text-decoration-color: #af87ff\">GU604VI-</span> │ <span style=\"color: #af87ff; text-decoration-color: #af87ff\">i5-1135G7</span> │          │           │          │  │\n",
       "│ │          │      │          │ <span style=\"color: #af87ff; text-decoration-color: #af87ff\">3\"      </span> │ <span style=\"color: #af87ff; text-decoration-color: #af87ff\">Core     </span> │ <span style=\"color: #af87ff; text-decoration-color: #af87ff\">93D47PB1</span> │ <span style=\"color: #af87ff; text-decoration-color: #af87ff\">/8GB/500G</span> │          │           │          │  │\n",
       "│ │          │      │          │          │ <span style=\"color: #af87ff; text-decoration-color: #af87ff\">i7-11800H</span> │ <span style=\"color: #af87ff; text-decoration-color: #af87ff\"> Intel  </span> │ <span style=\"color: #af87ff; text-decoration-color: #af87ff\">B SSD/14\"</span> │          │           │          │  │\n",
       "│ │          │      │          │          │ <span style=\"color: #af87ff; text-decoration-color: #af87ff\">/16      </span> │ <span style=\"color: #af87ff; text-decoration-color: #af87ff\">Core    </span> │           │          │           │          │  │\n",
       "│ │          │      │          │          │ <span style=\"color: #af87ff; text-decoration-color: #af87ff\">GB/1TB   </span> │ <span style=\"color: #af87ff; text-decoration-color: #af87ff\">i9-13900</span> │           │          │           │          │  │\n",
       "│ │          │      │          │          │ <span style=\"color: #af87ff; text-decoration-color: #af87ff\">SSD/RTX  </span> │ <span style=\"color: #af87ff; text-decoration-color: #af87ff\">H/32GB/1</span> │           │          │           │          │  │\n",
       "│ │          │      │          │          │ <span style=\"color: #af87ff; text-decoration-color: #af87ff\">3070/15.6</span> │ <span style=\"color: #af87ff; text-decoration-color: #af87ff\">TB      </span> │           │          │           │          │  │\n",
       "│ │          │      │          │          │ <span style=\"color: #af87ff; text-decoration-color: #af87ff\">\" + Razer</span> │ <span style=\"color: #af87ff; text-decoration-color: #af87ff\">SSD/RTX </span> │           │          │           │          │  │\n",
       "│ │          │      │          │          │ <span style=\"color: #af87ff; text-decoration-color: #af87ff\">Soporte  </span> │ <span style=\"color: #af87ff; text-decoration-color: #af87ff\">4070/16\"</span> │           │          │           │          │  │\n",
       "│ │          │      │          │          │ <span style=\"color: #af87ff; text-decoration-color: #af87ff\">para     </span> │ <span style=\"color: #af87ff; text-decoration-color: #af87ff\">(PT)    </span> │           │          │           │          │  │\n",
       "│ │          │      │          │          │ <span style=\"color: #af87ff; text-decoration-color: #af87ff\">Portátil </span> │          │           │          │           │          │  │\n",
       "│ │          │      │          │          │ <span style=\"color: #af87ff; text-decoration-color: #af87ff\">hasta 15\"</span> │          │           │          │           │          │  │\n",
       "│ │          │      │          │          │ <span style=\"color: #af87ff; text-decoration-color: #af87ff\">Negro    </span> │          │           │          │           │          │  │\n",
       "│ │ <span style=\"color: #af87ff; text-decoration-color: #af87ff\">Status  </span> │ <span style=\"color: #008080; text-decoration-color: #008080\">   0</span> │ <span style=\"color: #008080; text-decoration-color: #008080\">       0</span> │ <span style=\"color: #af87ff; text-decoration-color: #af87ff\">New     </span> │ <span style=\"color: #af87ff; text-decoration-color: #af87ff\">Refurbish</span> │ <span style=\"color: #af87ff; text-decoration-color: #af87ff\">New     </span> │ <span style=\"color: #af87ff; text-decoration-color: #af87ff\">Refurbish</span> │ <span style=\"color: #008080; text-decoration-color: #008080\">    5.45</span> │ <span style=\"color: #008080; text-decoration-color: #008080\">        1</span> │ <span style=\"color: #008080; text-decoration-color: #008080\">    2160</span> │  │\n",
       "│ │          │      │          │          │ <span style=\"color: #af87ff; text-decoration-color: #af87ff\">ed       </span> │          │ <span style=\"color: #af87ff; text-decoration-color: #af87ff\">ed       </span> │          │           │          │  │\n",
       "│ │ <span style=\"color: #af87ff; text-decoration-color: #af87ff\">Brand   </span> │ <span style=\"color: #008080; text-decoration-color: #008080\">   0</span> │ <span style=\"color: #008080; text-decoration-color: #008080\">       0</span> │ <span style=\"color: #af87ff; text-decoration-color: #af87ff\">HP      </span> │ <span style=\"color: #af87ff; text-decoration-color: #af87ff\">Dynabook </span> │ <span style=\"color: #af87ff; text-decoration-color: #af87ff\">Acer    </span> │ <span style=\"color: #af87ff; text-decoration-color: #af87ff\">Vant     </span> │ <span style=\"color: #008080; text-decoration-color: #008080\">    4.43</span> │ <span style=\"color: #008080; text-decoration-color: #008080\">        1</span> │ <span style=\"color: #008080; text-decoration-color: #008080\">    2187</span> │  │\n",
       "│ │          │      │          │          │ <span style=\"color: #af87ff; text-decoration-color: #af87ff\">Toshiba  </span> │          │           │          │           │          │  │\n",
       "│ │ <span style=\"color: #af87ff; text-decoration-color: #af87ff\">Model   </span> │ <span style=\"color: #008080; text-decoration-color: #008080\">   0</span> │ <span style=\"color: #008080; text-decoration-color: #008080\">       0</span> │ <span style=\"color: #af87ff; text-decoration-color: #af87ff\">Go      </span> │ <span style=\"color: #af87ff; text-decoration-color: #af87ff\">Surface  </span> │ <span style=\"color: #af87ff; text-decoration-color: #af87ff\">100e    </span> │ <span style=\"color: #af87ff; text-decoration-color: #af87ff\">ZenBook  </span> │ <span style=\"color: #008080; text-decoration-color: #008080\">    6.53</span> │ <span style=\"color: #008080; text-decoration-color: #008080\">      1.1</span> │ <span style=\"color: #008080; text-decoration-color: #008080\">    2398</span> │  │\n",
       "│ │          │      │          │          │ <span style=\"color: #af87ff; text-decoration-color: #af87ff\">Laptop   </span> │          │           │          │           │          │  │\n",
       "│ │ <span style=\"color: #af87ff; text-decoration-color: #af87ff\">CPU     </span> │ <span style=\"color: #008080; text-decoration-color: #008080\">   0</span> │ <span style=\"color: #008080; text-decoration-color: #008080\">       0</span> │ <span style=\"color: #af87ff; text-decoration-color: #af87ff\">Apple M1</span> │ <span style=\"color: #af87ff; text-decoration-color: #af87ff\">Qualcomm </span> │ <span style=\"color: #af87ff; text-decoration-color: #af87ff\">AMD     </span> │ <span style=\"color: #af87ff; text-decoration-color: #af87ff\">Qualcomm </span> │ <span style=\"color: #008080; text-decoration-color: #008080\">    12.7</span> │ <span style=\"color: #008080; text-decoration-color: #008080\">        3</span> │ <span style=\"color: #008080; text-decoration-color: #008080\">    6419</span> │  │\n",
       "│ │          │      │          │          │ <span style=\"color: #af87ff; text-decoration-color: #af87ff\">Snapdrago</span> │ <span style=\"color: #af87ff; text-decoration-color: #af87ff\">3015Ce  </span> │ <span style=\"color: #af87ff; text-decoration-color: #af87ff\">Snapdrago</span> │          │           │          │  │\n",
       "│ │          │      │          │          │ <span style=\"color: #af87ff; text-decoration-color: #af87ff\">n 7      </span> │          │ <span style=\"color: #af87ff; text-decoration-color: #af87ff\">n 8      </span> │          │           │          │  │\n",
       "│ │ <span style=\"color: #af87ff; text-decoration-color: #af87ff\">Storage </span> │ <span style=\"color: #008080; text-decoration-color: #008080\">  42</span> │ <span style=\"color: #008080; text-decoration-color: #008080\">1.944444</span> │ <span style=\"color: #af87ff; text-decoration-color: #af87ff\">SSD     </span> │ <span style=\"color: #af87ff; text-decoration-color: #af87ff\">eMMC     </span> │ <span style=\"color: #af87ff; text-decoration-color: #af87ff\">SSD     </span> │ <span style=\"color: #af87ff; text-decoration-color: #af87ff\">eMMC     </span> │ <span style=\"color: #008080; text-decoration-color: #008080\">    3.03</span> │ <span style=\"color: #008080; text-decoration-color: #008080\">     0.98</span> │ <span style=\"color: #008080; text-decoration-color: #008080\">    2118</span> │  │\n",
       "│ │ <span style=\"color: #af87ff; text-decoration-color: #af87ff\">type    </span> │      │ <span style=\"color: #008080; text-decoration-color: #008080\">44444444</span> │          │           │          │           │          │           │          │  │\n",
       "│ │          │      │ <span style=\"color: #008080; text-decoration-color: #008080\">      44</span> │          │           │          │           │          │           │          │  │\n",
       "│ │ <span style=\"color: #af87ff; text-decoration-color: #af87ff\">GPU     </span> │ <span style=\"color: #008080; text-decoration-color: #008080\">1371</span> │ <span style=\"color: #008080; text-decoration-color: #008080\">63.47222</span> │ <span style=\"color: #af87ff; text-decoration-color: #af87ff\">610 M   </span> │ <span style=\"color: #af87ff; text-decoration-color: #af87ff\">Radeon   </span> │ <span style=\"color: #af87ff; text-decoration-color: #af87ff\">610 M   </span> │ <span style=\"color: #af87ff; text-decoration-color: #af87ff\">T 600    </span> │ <span style=\"color: #008080; text-decoration-color: #008080\">    8.06</span> │ <span style=\"color: #008080; text-decoration-color: #008080\">     0.74</span> │ <span style=\"color: #008080; text-decoration-color: #008080\">    1596</span> │  │\n",
       "│ │          │      │ <span style=\"color: #008080; text-decoration-color: #008080\">22222222</span> │          │ <span style=\"color: #af87ff; text-decoration-color: #af87ff\">Pro RX   </span> │          │           │          │           │          │  │\n",
       "│ │          │      │ <span style=\"color: #008080; text-decoration-color: #008080\">       2</span> │          │ <span style=\"color: #af87ff; text-decoration-color: #af87ff\">560X     </span> │          │           │          │           │          │  │\n",
       "│ │ <span style=\"color: #af87ff; text-decoration-color: #af87ff\">Touch   </span> │ <span style=\"color: #008080; text-decoration-color: #008080\">   0</span> │ <span style=\"color: #008080; text-decoration-color: #008080\">       0</span> │ <span style=\"color: #af87ff; text-decoration-color: #af87ff\">No      </span> │ <span style=\"color: #af87ff; text-decoration-color: #af87ff\">Yes      </span> │ <span style=\"color: #af87ff; text-decoration-color: #af87ff\">No      </span> │ <span style=\"color: #af87ff; text-decoration-color: #af87ff\">Yes      </span> │ <span style=\"color: #008080; text-decoration-color: #008080\">    2.11</span> │ <span style=\"color: #008080; text-decoration-color: #008080\">        1</span> │ <span style=\"color: #008080; text-decoration-color: #008080\">    2160</span> │  │\n",
       "│ └──────────┴──────┴──────────┴──────────┴───────────┴──────────┴───────────┴──────────┴───────────┴──────────┘  │\n",
       "╰────────────────────────────────────────────────────── End ──────────────────────────────────────────────────────╯\n",
       "</pre>\n"
      ],
      "text/plain": [
       "╭──────────────────────────────────────────────── skimpy summary ─────────────────────────────────────────────────╮\n",
       "│ \u001b[3m         Data Summary         \u001b[0m \u001b[3m      Data Types       \u001b[0m                                                          │\n",
       "│ ┏━━━━━━━━━━━━━━━━━━━┳━━━━━━━━┓ ┏━━━━━━━━━━━━━┳━━━━━━━┓                                                          │\n",
       "│ ┃\u001b[1;36m \u001b[0m\u001b[1;36mDataframe        \u001b[0m\u001b[1;36m \u001b[0m┃\u001b[1;36m \u001b[0m\u001b[1;36mValues\u001b[0m\u001b[1;36m \u001b[0m┃ ┃\u001b[1;36m \u001b[0m\u001b[1;36mColumn Type\u001b[0m\u001b[1;36m \u001b[0m┃\u001b[1;36m \u001b[0m\u001b[1;36mCount\u001b[0m\u001b[1;36m \u001b[0m┃                                                          │\n",
       "│ ┡━━━━━━━━━━━━━━━━━━━╇━━━━━━━━┩ ┡━━━━━━━━━━━━━╇━━━━━━━┩                                                          │\n",
       "│ │ Number of rows    │ 2160   │ │ string      │ 8     │                                                          │\n",
       "│ │ Number of columns │ 12     │ │ int64       │ 2     │                                                          │\n",
       "│ └───────────────────┴────────┘ │ float64     │ 2     │                                                          │\n",
       "│                                └─────────────┴───────┘                                                          │\n",
       "│ \u001b[3m                                                    number                                                    \u001b[0m  │\n",
       "│ ┏━━━━━━━━━━━━━━┳━━━━━┳━━━━━━━━━━━━━━━━━━━━━━━┳━━━━━━━━┳━━━━━━━━┳━━━━━━━┳━━━━━━━┳━━━━━━┳━━━━━━┳━━━━━━┳━━━━━━━━┓  │\n",
       "│ ┃\u001b[1m \u001b[0m\u001b[1mcolumn      \u001b[0m\u001b[1m \u001b[0m┃\u001b[1m \u001b[0m\u001b[1mNA \u001b[0m\u001b[1m \u001b[0m┃\u001b[1m \u001b[0m\u001b[1mNA %                 \u001b[0m\u001b[1m \u001b[0m┃\u001b[1m \u001b[0m\u001b[1mmean  \u001b[0m\u001b[1m \u001b[0m┃\u001b[1m \u001b[0m\u001b[1msd    \u001b[0m\u001b[1m \u001b[0m┃\u001b[1m \u001b[0m\u001b[1mp0   \u001b[0m\u001b[1m \u001b[0m┃\u001b[1m \u001b[0m\u001b[1mp25  \u001b[0m\u001b[1m \u001b[0m┃\u001b[1m \u001b[0m\u001b[1mp50 \u001b[0m\u001b[1m \u001b[0m┃\u001b[1m \u001b[0m\u001b[1mp75 \u001b[0m\u001b[1m \u001b[0m┃\u001b[1m \u001b[0m\u001b[1mp100\u001b[0m\u001b[1m \u001b[0m┃\u001b[1m \u001b[0m\u001b[1mhist  \u001b[0m\u001b[1m \u001b[0m┃  │\n",
       "│ ┡━━━━━━━━━━━━━━╇━━━━━╇━━━━━━━━━━━━━━━━━━━━━━━╇━━━━━━━━╇━━━━━━━━╇━━━━━━━╇━━━━━━━╇━━━━━━╇━━━━━━╇━━━━━━╇━━━━━━━━┩  │\n",
       "│ │ \u001b[38;5;141mRAM         \u001b[0m │ \u001b[36m  0\u001b[0m │ \u001b[36m                    0\u001b[0m │ \u001b[36m 15.41\u001b[0m │ \u001b[36m 9.868\u001b[0m │ \u001b[36m    4\u001b[0m │ \u001b[36m    8\u001b[0m │ \u001b[36m  16\u001b[0m │ \u001b[36m  16\u001b[0m │ \u001b[36m 128\u001b[0m │ \u001b[32m  ▇▁  \u001b[0m │  │\n",
       "│ │ \u001b[38;5;141mStorage     \u001b[0m │ \u001b[36m  0\u001b[0m │ \u001b[36m                    0\u001b[0m │ \u001b[36m 596.3\u001b[0m │ \u001b[36m 361.2\u001b[0m │ \u001b[36m    0\u001b[0m │ \u001b[36m  256\u001b[0m │ \u001b[36m 512\u001b[0m │ \u001b[36m1000\u001b[0m │ \u001b[36m4000\u001b[0m │ \u001b[32m  ▇▃  \u001b[0m │  │\n",
       "│ │ \u001b[38;5;141mScreen      \u001b[0m │ \u001b[36m  4\u001b[0m │ \u001b[36m  0.18518518518518517\u001b[0m │ \u001b[36m 15.17\u001b[0m │ \u001b[36m 1.203\u001b[0m │ \u001b[36m 10.1\u001b[0m │ \u001b[36m   14\u001b[0m │ \u001b[36m15.6\u001b[0m │ \u001b[36m15.6\u001b[0m │ \u001b[36m  18\u001b[0m │ \u001b[32m  ▃ ▇▁\u001b[0m │  │\n",
       "│ │ \u001b[38;5;141mFinal Price \u001b[0m │ \u001b[36m  0\u001b[0m │ \u001b[36m                    0\u001b[0m │ \u001b[36m  1313\u001b[0m │ \u001b[36m 911.5\u001b[0m │ \u001b[36m201.1\u001b[0m │ \u001b[36m661.1\u001b[0m │ \u001b[36m1032\u001b[0m │ \u001b[36m1709\u001b[0m │ \u001b[36m7150\u001b[0m │ \u001b[32m ▇▃▁  \u001b[0m │  │\n",
       "│ └──────────────┴─────┴───────────────────────┴────────┴────────┴───────┴───────┴──────┴──────┴──────┴────────┘  │\n",
       "│ \u001b[3m                                                    string                                                    \u001b[0m  │\n",
       "│ ┏━━━━━━━━━━┳━━━━━━┳━━━━━━━━━━┳━━━━━━━━━━┳━━━━━━━━━━━┳━━━━━━━━━━┳━━━━━━━━━━━┳━━━━━━━━━━┳━━━━━━━━━━━┳━━━━━━━━━━┓  │\n",
       "│ ┃\u001b[1m          \u001b[0m┃\u001b[1m      \u001b[0m┃\u001b[1m          \u001b[0m┃\u001b[1m          \u001b[0m┃\u001b[1m           \u001b[0m┃\u001b[1m          \u001b[0m┃\u001b[1m           \u001b[0m┃\u001b[1m \u001b[0m\u001b[1mchars   \u001b[0m\u001b[1m \u001b[0m┃\u001b[1m \u001b[0m\u001b[1mwords per\u001b[0m\u001b[1m \u001b[0m┃\u001b[1m \u001b[0m\u001b[1mtotal   \u001b[0m\u001b[1m \u001b[0m┃  │\n",
       "│ ┃\u001b[1m \u001b[0m\u001b[1mcolumn  \u001b[0m\u001b[1m \u001b[0m┃\u001b[1m \u001b[0m\u001b[1mNA  \u001b[0m\u001b[1m \u001b[0m┃\u001b[1m \u001b[0m\u001b[1mNA %    \u001b[0m\u001b[1m \u001b[0m┃\u001b[1m \u001b[0m\u001b[1mshortest\u001b[0m\u001b[1m \u001b[0m┃\u001b[1m \u001b[0m\u001b[1mlongest  \u001b[0m\u001b[1m \u001b[0m┃\u001b[1m \u001b[0m\u001b[1mmin     \u001b[0m\u001b[1m \u001b[0m┃\u001b[1m \u001b[0m\u001b[1mmax      \u001b[0m\u001b[1m \u001b[0m┃\u001b[1m \u001b[0m\u001b[1mper row \u001b[0m\u001b[1m \u001b[0m┃\u001b[1m \u001b[0m\u001b[1mrow      \u001b[0m\u001b[1m \u001b[0m┃\u001b[1m \u001b[0m\u001b[1mwords   \u001b[0m\u001b[1m \u001b[0m┃  │\n",
       "│ ┡━━━━━━━━━━╇━━━━━━╇━━━━━━━━━━╇━━━━━━━━━━╇━━━━━━━━━━━╇━━━━━━━━━━╇━━━━━━━━━━━╇━━━━━━━━━━╇━━━━━━━━━━━╇━━━━━━━━━━┩  │\n",
       "│ │ \u001b[38;5;141mLaptop  \u001b[0m │ \u001b[36m   0\u001b[0m │ \u001b[36m       0\u001b[0m │ \u001b[38;5;141mApple   \u001b[0m │ \u001b[38;5;141mRazer    \u001b[0m │ \u001b[38;5;141mASUS    \u001b[0m │ \u001b[38;5;141mVant     \u001b[0m │ \u001b[36m    70.1\u001b[0m │ \u001b[36m      8.9\u001b[0m │ \u001b[36m   19231\u001b[0m │  │\n",
       "│ │          │      │          │ \u001b[38;5;141mMacBook \u001b[0m │ \u001b[38;5;141mBlade 15 \u001b[0m │ \u001b[38;5;141mROG     \u001b[0m │ \u001b[38;5;141mMoove3-14\u001b[0m │          │           │          │  │\n",
       "│ │          │      │          │ \u001b[38;5;141mAir     \u001b[0m │ \u001b[38;5;141mAdvanced \u001b[0m │ \u001b[38;5;141mZephyrus\u001b[0m │ \u001b[38;5;141mIntel    \u001b[0m │          │           │          │  │\n",
       "│ │          │      │          │ \u001b[38;5;141mi5/4GB/1\u001b[0m │ \u001b[38;5;141mModel QHD\u001b[0m │ \u001b[38;5;141mM16     \u001b[0m │ \u001b[38;5;141mCore     \u001b[0m │          │           │          │  │\n",
       "│ │          │      │          │ \u001b[38;5;141m28GB/13.\u001b[0m │ \u001b[38;5;141mIntel    \u001b[0m │ \u001b[38;5;141mGU604VI-\u001b[0m │ \u001b[38;5;141mi5-1135G7\u001b[0m │          │           │          │  │\n",
       "│ │          │      │          │ \u001b[38;5;141m3\"      \u001b[0m │ \u001b[38;5;141mCore     \u001b[0m │ \u001b[38;5;141m93D47PB1\u001b[0m │ \u001b[38;5;141m/8GB/500G\u001b[0m │          │           │          │  │\n",
       "│ │          │      │          │          │ \u001b[38;5;141mi7-11800H\u001b[0m │ \u001b[38;5;141m Intel  \u001b[0m │ \u001b[38;5;141mB SSD/14\"\u001b[0m │          │           │          │  │\n",
       "│ │          │      │          │          │ \u001b[38;5;141m/16      \u001b[0m │ \u001b[38;5;141mCore    \u001b[0m │           │          │           │          │  │\n",
       "│ │          │      │          │          │ \u001b[38;5;141mGB/1TB   \u001b[0m │ \u001b[38;5;141mi9-13900\u001b[0m │           │          │           │          │  │\n",
       "│ │          │      │          │          │ \u001b[38;5;141mSSD/RTX  \u001b[0m │ \u001b[38;5;141mH/32GB/1\u001b[0m │           │          │           │          │  │\n",
       "│ │          │      │          │          │ \u001b[38;5;141m3070/15.6\u001b[0m │ \u001b[38;5;141mTB      \u001b[0m │           │          │           │          │  │\n",
       "│ │          │      │          │          │ \u001b[38;5;141m\" + Razer\u001b[0m │ \u001b[38;5;141mSSD/RTX \u001b[0m │           │          │           │          │  │\n",
       "│ │          │      │          │          │ \u001b[38;5;141mSoporte  \u001b[0m │ \u001b[38;5;141m4070/16\"\u001b[0m │           │          │           │          │  │\n",
       "│ │          │      │          │          │ \u001b[38;5;141mpara     \u001b[0m │ \u001b[38;5;141m(PT)    \u001b[0m │           │          │           │          │  │\n",
       "│ │          │      │          │          │ \u001b[38;5;141mPortátil \u001b[0m │          │           │          │           │          │  │\n",
       "│ │          │      │          │          │ \u001b[38;5;141mhasta 15\"\u001b[0m │          │           │          │           │          │  │\n",
       "│ │          │      │          │          │ \u001b[38;5;141mNegro    \u001b[0m │          │           │          │           │          │  │\n",
       "│ │ \u001b[38;5;141mStatus  \u001b[0m │ \u001b[36m   0\u001b[0m │ \u001b[36m       0\u001b[0m │ \u001b[38;5;141mNew     \u001b[0m │ \u001b[38;5;141mRefurbish\u001b[0m │ \u001b[38;5;141mNew     \u001b[0m │ \u001b[38;5;141mRefurbish\u001b[0m │ \u001b[36m    5.45\u001b[0m │ \u001b[36m        1\u001b[0m │ \u001b[36m    2160\u001b[0m │  │\n",
       "│ │          │      │          │          │ \u001b[38;5;141med       \u001b[0m │          │ \u001b[38;5;141med       \u001b[0m │          │           │          │  │\n",
       "│ │ \u001b[38;5;141mBrand   \u001b[0m │ \u001b[36m   0\u001b[0m │ \u001b[36m       0\u001b[0m │ \u001b[38;5;141mHP      \u001b[0m │ \u001b[38;5;141mDynabook \u001b[0m │ \u001b[38;5;141mAcer    \u001b[0m │ \u001b[38;5;141mVant     \u001b[0m │ \u001b[36m    4.43\u001b[0m │ \u001b[36m        1\u001b[0m │ \u001b[36m    2187\u001b[0m │  │\n",
       "│ │          │      │          │          │ \u001b[38;5;141mToshiba  \u001b[0m │          │           │          │           │          │  │\n",
       "│ │ \u001b[38;5;141mModel   \u001b[0m │ \u001b[36m   0\u001b[0m │ \u001b[36m       0\u001b[0m │ \u001b[38;5;141mGo      \u001b[0m │ \u001b[38;5;141mSurface  \u001b[0m │ \u001b[38;5;141m100e    \u001b[0m │ \u001b[38;5;141mZenBook  \u001b[0m │ \u001b[36m    6.53\u001b[0m │ \u001b[36m      1.1\u001b[0m │ \u001b[36m    2398\u001b[0m │  │\n",
       "│ │          │      │          │          │ \u001b[38;5;141mLaptop   \u001b[0m │          │           │          │           │          │  │\n",
       "│ │ \u001b[38;5;141mCPU     \u001b[0m │ \u001b[36m   0\u001b[0m │ \u001b[36m       0\u001b[0m │ \u001b[38;5;141mApple M1\u001b[0m │ \u001b[38;5;141mQualcomm \u001b[0m │ \u001b[38;5;141mAMD     \u001b[0m │ \u001b[38;5;141mQualcomm \u001b[0m │ \u001b[36m    12.7\u001b[0m │ \u001b[36m        3\u001b[0m │ \u001b[36m    6419\u001b[0m │  │\n",
       "│ │          │      │          │          │ \u001b[38;5;141mSnapdrago\u001b[0m │ \u001b[38;5;141m3015Ce  \u001b[0m │ \u001b[38;5;141mSnapdrago\u001b[0m │          │           │          │  │\n",
       "│ │          │      │          │          │ \u001b[38;5;141mn 7      \u001b[0m │          │ \u001b[38;5;141mn 8      \u001b[0m │          │           │          │  │\n",
       "│ │ \u001b[38;5;141mStorage \u001b[0m │ \u001b[36m  42\u001b[0m │ \u001b[36m1.944444\u001b[0m │ \u001b[38;5;141mSSD     \u001b[0m │ \u001b[38;5;141meMMC     \u001b[0m │ \u001b[38;5;141mSSD     \u001b[0m │ \u001b[38;5;141meMMC     \u001b[0m │ \u001b[36m    3.03\u001b[0m │ \u001b[36m     0.98\u001b[0m │ \u001b[36m    2118\u001b[0m │  │\n",
       "│ │ \u001b[38;5;141mtype    \u001b[0m │      │ \u001b[36m44444444\u001b[0m │          │           │          │           │          │           │          │  │\n",
       "│ │          │      │ \u001b[36m      44\u001b[0m │          │           │          │           │          │           │          │  │\n",
       "│ │ \u001b[38;5;141mGPU     \u001b[0m │ \u001b[36m1371\u001b[0m │ \u001b[36m63.47222\u001b[0m │ \u001b[38;5;141m610 M   \u001b[0m │ \u001b[38;5;141mRadeon   \u001b[0m │ \u001b[38;5;141m610 M   \u001b[0m │ \u001b[38;5;141mT 600    \u001b[0m │ \u001b[36m    8.06\u001b[0m │ \u001b[36m     0.74\u001b[0m │ \u001b[36m    1596\u001b[0m │  │\n",
       "│ │          │      │ \u001b[36m22222222\u001b[0m │          │ \u001b[38;5;141mPro RX   \u001b[0m │          │           │          │           │          │  │\n",
       "│ │          │      │ \u001b[36m       2\u001b[0m │          │ \u001b[38;5;141m560X     \u001b[0m │          │           │          │           │          │  │\n",
       "│ │ \u001b[38;5;141mTouch   \u001b[0m │ \u001b[36m   0\u001b[0m │ \u001b[36m       0\u001b[0m │ \u001b[38;5;141mNo      \u001b[0m │ \u001b[38;5;141mYes      \u001b[0m │ \u001b[38;5;141mNo      \u001b[0m │ \u001b[38;5;141mYes      \u001b[0m │ \u001b[36m    2.11\u001b[0m │ \u001b[36m        1\u001b[0m │ \u001b[36m    2160\u001b[0m │  │\n",
       "│ └──────────┴──────┴──────────┴──────────┴───────────┴──────────┴───────────┴──────────┴───────────┴──────────┘  │\n",
       "╰────────────────────────────────────────────────────── End ──────────────────────────────────────────────────────╯\n"
      ]
     },
     "metadata": {},
     "output_type": "display_data"
    }
   ],
   "source": [
    "from skimpy import skim\n",
    "skim(df)"
   ]
  },
  {
   "cell_type": "code",
   "execution_count": 9,
   "id": "ee877ee8-9c82-4efc-ad6e-238e3012130f",
   "metadata": {},
   "outputs": [],
   "source": [
    "data = df.drop_duplicates()"
   ]
  },
  {
   "cell_type": "code",
   "execution_count": 10,
   "id": "a5cb527c-ab89-4712-a41d-b62d8cb8e136",
   "metadata": {
    "scrolled": true
   },
   "outputs": [
    {
     "data": {
      "text/html": [
       "<div>\n",
       "<style scoped>\n",
       "    .dataframe tbody tr th:only-of-type {\n",
       "        vertical-align: middle;\n",
       "    }\n",
       "\n",
       "    .dataframe tbody tr th {\n",
       "        vertical-align: top;\n",
       "    }\n",
       "\n",
       "    .dataframe thead th {\n",
       "        text-align: right;\n",
       "    }\n",
       "</style>\n",
       "<table border=\"1\" class=\"dataframe\">\n",
       "  <thead>\n",
       "    <tr style=\"text-align: right;\">\n",
       "      <th></th>\n",
       "      <th>Laptop</th>\n",
       "      <th>Status</th>\n",
       "      <th>Brand</th>\n",
       "      <th>Model</th>\n",
       "      <th>CPU</th>\n",
       "      <th>RAM</th>\n",
       "      <th>Storage</th>\n",
       "      <th>Storage type</th>\n",
       "      <th>GPU</th>\n",
       "      <th>Screen</th>\n",
       "      <th>Touch</th>\n",
       "      <th>Final Price</th>\n",
       "    </tr>\n",
       "  </thead>\n",
       "  <tbody>\n",
       "    <tr>\n",
       "      <th>0</th>\n",
       "      <td>ASUS ExpertBook B1 B1502CBA-EJ0436X Intel Core...</td>\n",
       "      <td>New</td>\n",
       "      <td>Asus</td>\n",
       "      <td>ExpertBook</td>\n",
       "      <td>Intel Core i5</td>\n",
       "      <td>8</td>\n",
       "      <td>512</td>\n",
       "      <td>SSD</td>\n",
       "      <td>NaN</td>\n",
       "      <td>15.6</td>\n",
       "      <td>No</td>\n",
       "      <td>1009.00</td>\n",
       "    </tr>\n",
       "    <tr>\n",
       "      <th>1</th>\n",
       "      <td>Alurin Go Start Intel Celeron N4020/8GB/256GB ...</td>\n",
       "      <td>New</td>\n",
       "      <td>Alurin</td>\n",
       "      <td>Go</td>\n",
       "      <td>Intel Celeron</td>\n",
       "      <td>8</td>\n",
       "      <td>256</td>\n",
       "      <td>SSD</td>\n",
       "      <td>NaN</td>\n",
       "      <td>15.6</td>\n",
       "      <td>No</td>\n",
       "      <td>299.00</td>\n",
       "    </tr>\n",
       "    <tr>\n",
       "      <th>2</th>\n",
       "      <td>ASUS ExpertBook B1 B1502CBA-EJ0424X Intel Core...</td>\n",
       "      <td>New</td>\n",
       "      <td>Asus</td>\n",
       "      <td>ExpertBook</td>\n",
       "      <td>Intel Core i3</td>\n",
       "      <td>8</td>\n",
       "      <td>256</td>\n",
       "      <td>SSD</td>\n",
       "      <td>NaN</td>\n",
       "      <td>15.6</td>\n",
       "      <td>No</td>\n",
       "      <td>789.00</td>\n",
       "    </tr>\n",
       "    <tr>\n",
       "      <th>3</th>\n",
       "      <td>MSI Katana GF66 12UC-082XES Intel Core i7-1270...</td>\n",
       "      <td>New</td>\n",
       "      <td>MSI</td>\n",
       "      <td>Katana</td>\n",
       "      <td>Intel Core i7</td>\n",
       "      <td>16</td>\n",
       "      <td>1000</td>\n",
       "      <td>SSD</td>\n",
       "      <td>RTX 3050</td>\n",
       "      <td>15.6</td>\n",
       "      <td>No</td>\n",
       "      <td>1199.00</td>\n",
       "    </tr>\n",
       "    <tr>\n",
       "      <th>4</th>\n",
       "      <td>HP 15S-FQ5085NS Intel Core i5-1235U/16GB/512GB...</td>\n",
       "      <td>New</td>\n",
       "      <td>HP</td>\n",
       "      <td>15S</td>\n",
       "      <td>Intel Core i5</td>\n",
       "      <td>16</td>\n",
       "      <td>512</td>\n",
       "      <td>SSD</td>\n",
       "      <td>NaN</td>\n",
       "      <td>15.6</td>\n",
       "      <td>No</td>\n",
       "      <td>669.01</td>\n",
       "    </tr>\n",
       "  </tbody>\n",
       "</table>\n",
       "</div>"
      ],
      "text/plain": [
       "                                              Laptop Status   Brand  \\\n",
       "0  ASUS ExpertBook B1 B1502CBA-EJ0436X Intel Core...    New    Asus   \n",
       "1  Alurin Go Start Intel Celeron N4020/8GB/256GB ...    New  Alurin   \n",
       "2  ASUS ExpertBook B1 B1502CBA-EJ0424X Intel Core...    New    Asus   \n",
       "3  MSI Katana GF66 12UC-082XES Intel Core i7-1270...    New     MSI   \n",
       "4  HP 15S-FQ5085NS Intel Core i5-1235U/16GB/512GB...    New      HP   \n",
       "\n",
       "        Model            CPU  RAM  Storage Storage type       GPU  Screen  \\\n",
       "0  ExpertBook  Intel Core i5    8      512          SSD       NaN    15.6   \n",
       "1          Go  Intel Celeron    8      256          SSD       NaN    15.6   \n",
       "2  ExpertBook  Intel Core i3    8      256          SSD       NaN    15.6   \n",
       "3      Katana  Intel Core i7   16     1000          SSD  RTX 3050    15.6   \n",
       "4         15S  Intel Core i5   16      512          SSD       NaN    15.6   \n",
       "\n",
       "  Touch  Final Price  \n",
       "0    No      1009.00  \n",
       "1    No       299.00  \n",
       "2    No       789.00  \n",
       "3    No      1199.00  \n",
       "4    No       669.01  "
      ]
     },
     "execution_count": 10,
     "metadata": {},
     "output_type": "execute_result"
    }
   ],
   "source": [
    "data.head()"
   ]
  },
  {
   "cell_type": "code",
   "execution_count": 11,
   "id": "73fe0595-809c-4ec2-9e87-195eba8a3adf",
   "metadata": {},
   "outputs": [],
   "source": [
    "data.drop(columns=[\"GPU\"],inplace=True)"
   ]
  },
  {
   "cell_type": "code",
   "execution_count": 12,
   "id": "2f7ecc8f-1409-42e2-a2af-0821c2acd298",
   "metadata": {},
   "outputs": [
    {
     "data": {
      "text/html": [
       "<div>\n",
       "<style scoped>\n",
       "    .dataframe tbody tr th:only-of-type {\n",
       "        vertical-align: middle;\n",
       "    }\n",
       "\n",
       "    .dataframe tbody tr th {\n",
       "        vertical-align: top;\n",
       "    }\n",
       "\n",
       "    .dataframe thead th {\n",
       "        text-align: right;\n",
       "    }\n",
       "</style>\n",
       "<table border=\"1\" class=\"dataframe\">\n",
       "  <thead>\n",
       "    <tr style=\"text-align: right;\">\n",
       "      <th></th>\n",
       "      <th>RAM</th>\n",
       "      <th>Storage</th>\n",
       "      <th>Screen</th>\n",
       "      <th>Final Price</th>\n",
       "    </tr>\n",
       "  </thead>\n",
       "  <tbody>\n",
       "    <tr>\n",
       "      <th>count</th>\n",
       "      <td>2160.000000</td>\n",
       "      <td>2160.000000</td>\n",
       "      <td>2156.000000</td>\n",
       "      <td>2160.000000</td>\n",
       "    </tr>\n",
       "    <tr>\n",
       "      <th>mean</th>\n",
       "      <td>15.413889</td>\n",
       "      <td>596.294444</td>\n",
       "      <td>15.168112</td>\n",
       "      <td>1312.638509</td>\n",
       "    </tr>\n",
       "    <tr>\n",
       "      <th>std</th>\n",
       "      <td>9.867815</td>\n",
       "      <td>361.220506</td>\n",
       "      <td>1.203329</td>\n",
       "      <td>911.475417</td>\n",
       "    </tr>\n",
       "    <tr>\n",
       "      <th>min</th>\n",
       "      <td>4.000000</td>\n",
       "      <td>0.000000</td>\n",
       "      <td>10.100000</td>\n",
       "      <td>201.050000</td>\n",
       "    </tr>\n",
       "    <tr>\n",
       "      <th>25%</th>\n",
       "      <td>8.000000</td>\n",
       "      <td>256.000000</td>\n",
       "      <td>14.000000</td>\n",
       "      <td>661.082500</td>\n",
       "    </tr>\n",
       "    <tr>\n",
       "      <th>50%</th>\n",
       "      <td>16.000000</td>\n",
       "      <td>512.000000</td>\n",
       "      <td>15.600000</td>\n",
       "      <td>1031.945000</td>\n",
       "    </tr>\n",
       "    <tr>\n",
       "      <th>75%</th>\n",
       "      <td>16.000000</td>\n",
       "      <td>1000.000000</td>\n",
       "      <td>15.600000</td>\n",
       "      <td>1708.970000</td>\n",
       "    </tr>\n",
       "    <tr>\n",
       "      <th>max</th>\n",
       "      <td>128.000000</td>\n",
       "      <td>4000.000000</td>\n",
       "      <td>18.000000</td>\n",
       "      <td>7150.470000</td>\n",
       "    </tr>\n",
       "  </tbody>\n",
       "</table>\n",
       "</div>"
      ],
      "text/plain": [
       "               RAM      Storage       Screen  Final Price\n",
       "count  2160.000000  2160.000000  2156.000000  2160.000000\n",
       "mean     15.413889   596.294444    15.168112  1312.638509\n",
       "std       9.867815   361.220506     1.203329   911.475417\n",
       "min       4.000000     0.000000    10.100000   201.050000\n",
       "25%       8.000000   256.000000    14.000000   661.082500\n",
       "50%      16.000000   512.000000    15.600000  1031.945000\n",
       "75%      16.000000  1000.000000    15.600000  1708.970000\n",
       "max     128.000000  4000.000000    18.000000  7150.470000"
      ]
     },
     "execution_count": 12,
     "metadata": {},
     "output_type": "execute_result"
    }
   ],
   "source": [
    "data.describe()"
   ]
  },
  {
   "cell_type": "code",
   "execution_count": 15,
   "id": "178f70e8-326b-47a1-ba93-012512846014",
   "metadata": {},
   "outputs": [
    {
     "data": {
      "text/plain": [
       "<Axes: >"
      ]
     },
     "execution_count": 15,
     "metadata": {},
     "output_type": "execute_result"
    },
    {
     "data": {
      "image/png": "[encoded data removed]",
      "text/plain": [
       "<Figure size 640x480 with 2 Axes>"
      ]
     },
     "metadata": {},
     "output_type": "display_data"
    }
   ],
   "source": [
    "sns.heatmap(data.select_dtypes(\"int64\",\"float64\"))"
   ]
  },
  {
   "cell_type": "code",
   "execution_count": 16,
   "id": "66ceb0b5-4900-4e40-a210-f37f6a9b9162",
   "metadata": {},
   "outputs": [],
   "source": [
    "Storage_type = data[\"Storage type\"].value_counts()"
   ]
  },
  {
   "cell_type": "code",
   "execution_count": 18,
   "id": "b5386ebc-9f54-4c46-884f-3e7a7bb1e29f",
   "metadata": {},
   "outputs": [
    {
     "data": {
      "text/plain": [
       "<Axes: xlabel='Storage type'>"
      ]
     },
     "execution_count": 18,
     "metadata": {},
     "output_type": "execute_result"
    },
    {
     "data": {
      "image/png": "[encoded data removed]",
      "text/plain": [
       "<Figure size 600x400 with 1 Axes>"
      ]
     },
     "metadata": {},
     "output_type": "display_data"
    }
   ],
   "source": [
    "plt.figure(figsize=(6,4))\n",
    "\n",
    "Storage_type.plot(kind=\"bar\")"
   ]
  },
  {
   "cell_type": "raw",
   "id": "dc5b4181-5127-4047-9597-bcd18d820d89",
   "metadata": {},
   "source": []
  },
  {
   "cell_type": "code",
   "execution_count": 20,
   "id": "6728955b-deeb-48d8-b00e-5c0864335548",
   "metadata": {},
   "outputs": [
    {
     "data": {
      "text/plain": [
       "<Axes: xlabel='Status'>"
      ]
     },
     "execution_count": 20,
     "metadata": {},
     "output_type": "execute_result"
    },
    {
     "data": {
      "image/png": "[encoded data removed]",
      "text/plain": [
       "<Figure size 600x400 with 1 Axes>"
      ]
     },
     "metadata": {},
     "output_type": "display_data"
    }
   ],
   "source": [
    "status = data[\"Status\"].value_counts()\n",
    "\n",
    "plt.figure(figsize=(6,4))\n",
    "\n",
    "status.plot(kind=\"bar\",color=\"red\")"
   ]
  },
  {
   "cell_type": "code",
   "execution_count": 21,
   "id": "820291a2-f741-4fea-89b3-d83b99390ccf",
   "metadata": {},
   "outputs": [],
   "source": [
    "table = pd.crosstab(data[\"Status\"],data[\"Storage type\"],margins=True,normalize=True)"
   ]
  },
  {
   "cell_type": "code",
   "execution_count": 22,
   "id": "dec09c1d-ff63-4dd5-9660-36dfebea5c06",
   "metadata": {},
   "outputs": [
    {
     "data": {
      "text/html": [
       "<div>\n",
       "<style scoped>\n",
       "    .dataframe tbody tr th:only-of-type {\n",
       "        vertical-align: middle;\n",
       "    }\n",
       "\n",
       "    .dataframe tbody tr th {\n",
       "        vertical-align: top;\n",
       "    }\n",
       "\n",
       "    .dataframe thead th {\n",
       "        text-align: right;\n",
       "    }\n",
       "</style>\n",
       "<table border=\"1\" class=\"dataframe\">\n",
       "  <thead>\n",
       "    <tr style=\"text-align: right;\">\n",
       "      <th>Storage type</th>\n",
       "      <th>SSD</th>\n",
       "      <th>eMMC</th>\n",
       "      <th>All</th>\n",
       "    </tr>\n",
       "    <tr>\n",
       "      <th>Status</th>\n",
       "      <th></th>\n",
       "      <th></th>\n",
       "      <th></th>\n",
       "    </tr>\n",
       "  </thead>\n",
       "  <tbody>\n",
       "    <tr>\n",
       "      <th>New</th>\n",
       "      <td>0.672805</td>\n",
       "      <td>0.023135</td>\n",
       "      <td>0.69594</td>\n",
       "    </tr>\n",
       "    <tr>\n",
       "      <th>Refurbished</th>\n",
       "      <td>0.300755</td>\n",
       "      <td>0.003305</td>\n",
       "      <td>0.30406</td>\n",
       "    </tr>\n",
       "    <tr>\n",
       "      <th>All</th>\n",
       "      <td>0.973560</td>\n",
       "      <td>0.026440</td>\n",
       "      <td>1.00000</td>\n",
       "    </tr>\n",
       "  </tbody>\n",
       "</table>\n",
       "</div>"
      ],
      "text/plain": [
       "Storage type       SSD      eMMC      All\n",
       "Status                                   \n",
       "New           0.672805  0.023135  0.69594\n",
       "Refurbished   0.300755  0.003305  0.30406\n",
       "All           0.973560  0.026440  1.00000"
      ]
     },
     "execution_count": 22,
     "metadata": {},
     "output_type": "execute_result"
    }
   ],
   "source": [
    "table"
   ]
  },
  {
   "cell_type": "code",
   "execution_count": 23,
   "id": "94cb6f4b-71f0-42e7-a256-4688a5ef1f1f",
   "metadata": {},
   "outputs": [],
   "source": [
    "table = pd.crosstab(data[\"Status\"],data[\"Storage type\"],values=df['RAM'], aggfunc='mean')"
   ]
  },
  {
   "cell_type": "code",
   "execution_count": 24,
   "id": "dce902d1-f604-4ac7-894a-57ef049d41dd",
   "metadata": {
    "scrolled": true
   },
   "outputs": [
    {
     "data": {
      "text/html": [
       "<div>\n",
       "<style scoped>\n",
       "    .dataframe tbody tr th:only-of-type {\n",
       "        vertical-align: middle;\n",
       "    }\n",
       "\n",
       "    .dataframe tbody tr th {\n",
       "        vertical-align: top;\n",
       "    }\n",
       "\n",
       "    .dataframe thead th {\n",
       "        text-align: right;\n",
       "    }\n",
       "</style>\n",
       "<table border=\"1\" class=\"dataframe\">\n",
       "  <thead>\n",
       "    <tr style=\"text-align: right;\">\n",
       "      <th>Storage type</th>\n",
       "      <th>SSD</th>\n",
       "      <th>eMMC</th>\n",
       "    </tr>\n",
       "    <tr>\n",
       "      <th>Status</th>\n",
       "      <th></th>\n",
       "      <th></th>\n",
       "    </tr>\n",
       "  </thead>\n",
       "  <tbody>\n",
       "    <tr>\n",
       "      <th>New</th>\n",
       "      <td>15.09193</td>\n",
       "      <td>5.632653</td>\n",
       "    </tr>\n",
       "    <tr>\n",
       "      <th>Refurbished</th>\n",
       "      <td>17.44427</td>\n",
       "      <td>7.428571</td>\n",
       "    </tr>\n",
       "  </tbody>\n",
       "</table>\n",
       "</div>"
      ],
      "text/plain": [
       "Storage type       SSD      eMMC\n",
       "Status                          \n",
       "New           15.09193  5.632653\n",
       "Refurbished   17.44427  7.428571"
      ]
     },
     "execution_count": 24,
     "metadata": {},
     "output_type": "execute_result"
    }
   ],
   "source": [
    "table"
   ]
  },
  {
   "cell_type": "markdown",
   "id": "53f53c2f-dec4-4086-bcf0-5f3d600430ee",
   "metadata": {},
   "source": []
  },
  {
   "cell_type": "code",
   "execution_count": 25,
   "id": "a047da53-a0ef-4e2f-9c2b-0af13763d6e7",
   "metadata": {},
   "outputs": [
    {
     "data": {
      "text/html": [
       "<div>\n",
       "<style scoped>\n",
       "    .dataframe tbody tr th:only-of-type {\n",
       "        vertical-align: middle;\n",
       "    }\n",
       "\n",
       "    .dataframe tbody tr th {\n",
       "        vertical-align: top;\n",
       "    }\n",
       "\n",
       "    .dataframe thead th {\n",
       "        text-align: right;\n",
       "    }\n",
       "</style>\n",
       "<table border=\"1\" class=\"dataframe\">\n",
       "  <thead>\n",
       "    <tr style=\"text-align: right;\">\n",
       "      <th>Storage type</th>\n",
       "      <th>SSD</th>\n",
       "      <th>eMMC</th>\n",
       "    </tr>\n",
       "    <tr>\n",
       "      <th>Status</th>\n",
       "      <th></th>\n",
       "      <th></th>\n",
       "    </tr>\n",
       "  </thead>\n",
       "  <tbody>\n",
       "    <tr>\n",
       "      <th>New</th>\n",
       "      <td>73.0</td>\n",
       "      <td>27.0</td>\n",
       "    </tr>\n",
       "    <tr>\n",
       "      <th>Refurbished</th>\n",
       "      <td>70.0</td>\n",
       "      <td>30.0</td>\n",
       "    </tr>\n",
       "  </tbody>\n",
       "</table>\n",
       "</div>"
      ],
      "text/plain": [
       "Storage type   SSD  eMMC\n",
       "Status                  \n",
       "New           73.0  27.0\n",
       "Refurbished   70.0  30.0"
      ]
     },
     "execution_count": 25,
     "metadata": {},
     "output_type": "execute_result"
    }
   ],
   "source": [
    "proportion_table = round(table.div(table.sum(axis=1), axis=0)*100)\n",
    "\n",
    "proportion_table"
   ]
  },
  {
   "cell_type": "code",
   "execution_count": 26,
   "id": "dd15170a-d0d7-4827-8196-7b3cd67b3ea9",
   "metadata": {},
   "outputs": [
    {
     "data": {
      "text/plain": [
       "<Axes: xlabel='Status'>"
      ]
     },
     "execution_count": 26,
     "metadata": {},
     "output_type": "execute_result"
    },
    {
     "data": {
      "image/png": "[encoded data removed]",
      "text/plain": [
       "<Figure size 640x480 with 1 Axes>"
      ]
     },
     "metadata": {},
     "output_type": "display_data"
    }
   ],
   "source": [
    "proportion_table.plot(kind=\"bar\")"
   ]
  },
  {
   "cell_type": "code",
   "execution_count": 27,
   "id": "2536343b-125b-4c4a-9d2b-4ea60550ed27",
   "metadata": {},
   "outputs": [
    {
     "data": {
      "image/png": "[encoded data removed]",
      "text/plain": [
       "<Figure size 640x480 with 1 Axes>"
      ]
     },
     "metadata": {},
     "output_type": "display_data"
    }
   ],
   "source": [
    "# Tracer le graphique\n",
    "ax = proportion_table.plot(kind='bar', stacked=True, colormap='coolwarm')\n",
    "for bars in ax.containers:\n",
    "    ax.bar_label(bars, fmt=\"%.1f%%\", label_type=\"center\", color=\"black\", fontsize=15)\n",
    "# Ajouter un titre et labels\n",
    "plt.title(\"Proportion des Achats par Genre\")\n",
    "plt.xlabel(\"Genre\")\n",
    "plt.ylabel(\"Pourcentage\")\n",
    "plt.legend(title=\"Achat\")\n",
    "\n",
    "# Afficher le graphique\n",
    "plt.show()\n"
   ]
  },
  {
   "cell_type": "code",
   "execution_count": 28,
   "id": "57aac565-a484-4f4a-bee2-23e40f434d3f",
   "metadata": {},
   "outputs": [],
   "source": [
    "cpu = data[\"CPU\"].value_counts().head()"
   ]
  },
  {
   "cell_type": "code",
   "execution_count": 30,
   "id": "b3033d76-be9d-4e97-8b84-f137e5e9e497",
   "metadata": {},
   "outputs": [
    {
     "data": {
      "text/plain": [
       "<Axes: xlabel='CPU'>"
      ]
     },
     "execution_count": 30,
     "metadata": {},
     "output_type": "execute_result"
    },
    {
     "data": {
      "image/png": "[encoded data removed]",
      "text/plain": [
       "<Figure size 640x480 with 1 Axes>"
      ]
     },
     "metadata": {},
     "output_type": "display_data"
    }
   ],
   "source": [
    "cpu.plot(kind=\"bar\")"
   ]
  },
  {
   "cell_type": "code",
   "execution_count": 31,
   "id": "bd576c7f-6435-492f-9648-dd0e7e131361",
   "metadata": {},
   "outputs": [],
   "source": [
    "mean_price = data.groupby(by=[\"Brand\"])[\"Final Price\"].mean()"
   ]
  },
  {
   "cell_type": "code",
   "execution_count": 33,
   "id": "f6f6ac1e-b8b9-49b9-9465-e6ac481cb0e4",
   "metadata": {},
   "outputs": [
    {
     "data": {
      "text/plain": [
       "<Axes: xlabel='Brand'>"
      ]
     },
     "execution_count": 33,
     "metadata": {},
     "output_type": "execute_result"
    },
    {
     "data": {
      "image/png": "[encoded data removed]",
      "text/plain": [
       "<Figure size 640x480 with 1 Axes>"
      ]
     },
     "metadata": {},
     "output_type": "display_data"
    }
   ],
   "source": [
    "mean_price.plot()"
   ]
  },
  {
   "cell_type": "code",
   "execution_count": null,
   "id": "24db3516-016a-4c88-b23d-dd2817664328",
   "metadata": {},
   "outputs": [],
   "source": []
  }
 ],
 "metadata": {
  "kernelspec": {
   "display_name": "Test",
   "language": "python",
   "name": "monenv"
  },
  "language_info": {
   "codemirror_mode": {
    "name": "ipython",
    "version": 3
   },
   "file_extension": ".py",
   "mimetype": "text/x-python",
   "name": "python",
   "nbconvert_exporter": "python",
   "pygments_lexer": "ipython3",
   "version": "3.13.1"
  }
 },
 "nbformat": 4,
 "nbformat_minor": 5
}
